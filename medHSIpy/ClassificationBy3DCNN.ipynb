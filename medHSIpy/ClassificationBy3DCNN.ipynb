{
 "cells": [
  {
   "cell_type": "code",
   "execution_count": 1,
   "id": "6d1ef03d-a670-480d-b7da-1fef2a918aad",
   "metadata": {},
   "outputs": [
    {
     "name": "stderr",
     "output_type": "stream",
     "text": [
      "2023-02-08 16:49:28.725314: I tensorflow/core/util/util.cc:169] oneDNN custom operations are on. You may see slightly different numerical results due to floating-point round-off errors from different computation orders. To turn them off, set the environment variable `TF_ENABLE_ONEDNN_OPTS=0`.\n"
     ]
    }
   ],
   "source": [
    "# -*- coding: utf-8 -*\n",
    "from random import seed\n",
    "from tools import hio, util\n",
    "from learning.LearnModel import Learn_Model, valid\n",
    "from models.ChoiceModel import Choice_Model\n",
    "import matplotlib.pyplot as plt\n",
    "import os\n",
    "\n",
    "import torch\n",
    "from torch.utils.data import DataLoader, Dataset\n",
    "import torchvision.transforms as transforms\n",
    "import torch.nn as nn\n",
    "\n",
    "import numpy as np\n",
    "\n",
    "conf = util.parse_config()"
   ]
  },
  {
   "cell_type": "code",
   "execution_count": 2,
   "id": "61682c06-4d70-4b57-a93e-78a75c0d0d8e",
   "metadata": {},
   "outputs": [],
   "source": [
    "# image data\n",
    "random_state = 10\n",
    "DEFAULT_HEIGHT = 64\n",
    "n_components = 64 * 6\n",
    "\n",
    "#target data\n",
    "Class = {\n",
    "    'Malignant' : 0,\n",
    "    'Benign' : 1\n",
    "}\n",
    "\n",
    "# learning setting\n",
    "# model_name = 'vggLike_3DCNN'\n",
    "# model_name = 'ResNetLike_3DCNN'\n",
    "model_name = 'my_3DCNN'\n",
    "# model_name = 'sample_3DCNN'\n",
    "\n",
    "batch_size = 4\n",
    "learningRate = 0.001\n",
    "num_of_epoch = 300"
   ]
  },
  {
   "cell_type": "code",
   "execution_count": 3,
   "id": "98327a75-d787-4c19-8f4e-e08041994ea7",
   "metadata": {},
   "outputs": [
    {
     "name": "stdout",
     "output_type": "stream",
     "text": [
      "train IDs: ['321' '230' '157' '160' '233' '342' '251' '236' '308' '163' '348' '199'\n",
      " '290' '227' '333' '361' '215' '324' '263' '266' '150' '260' '181' '218'], test IDs: ['212' '187' '284']\n",
      "image data size (309, 64, 64, 401)\n",
      "label size (309,)\n",
      "xtrain:  309 , xtest:  19 ytrain:  309 , ytest:  19\n",
      "[0 0 0 0 1 1 1 1 1 1 1 1 0 0 0 0 0 0 0 0 0 0 0 0 0 0 0 1 1 0 0 0 0 0 0 0 0\n",
      " 0 0 0 0 0 0 0 0 0 0 0 0 0 0 0 0 0 0 0 0 0 0 0 0 0 0 0 0 0 0 0 0 0 0 0 0 0\n",
      " 0 0 0 0 0 0 0 0 0 0 0 0 0 0 0 0 0 0 0 0 0 0 0 0 0 0 0 0 0 0 0 0 0 0 0 0 0\n",
      " 0 0 0 0 0 0 0 0 0 0 0 0 0 0 0 0 0 0 0 0 0 0 0 0 0 0 0 0 0 0 0 0 0 0 0 0 0\n",
      " 0 0 0 0 0 0 0 0 0 0 0 0 1 1 1 1 1 1 1 1 1 1 1 1 1 1 1 1 1 1 1 1 1 1 1 1 1\n",
      " 1 1 1 1 1 1 1 1 1 1 1 1 1 1 1 1 1 1 1 1 1 1 1 1 1 1 1 1 1 1 1 1 1 1 1 1 1\n",
      " 1 1 1 0 0 0 0 0 0 0 0 0 0 0 0 0 0 0 0 0 0 0 0 0 0 0 0 0 0 0 0 0 0 0 0 0 0\n",
      " 0 0 0 0 0 0 0 0 0 0 0 0 0 0 0 0 0 0 0 0 0 0 0 0 0 0 0 0 0 0 0 0 0 0 0 0 0\n",
      " 0 0 0 0 0 1 1 1 1 1 1 1 1]\n",
      "[1 1 1 1 1 1 1 1 0 0 0 0 0 0 0 0 0 0 0]\n",
      "226 83\n",
      "11 8\n"
     ]
    }
   ],
   "source": [
    "x_train, x_test, y_train, y_test = hio.get_train_test_for_clasification(Class, height=DEFAULT_HEIGHT, n_components=n_components, is_split=True, show_image=True, random_state=random_state)\n",
    "\n",
    "print(y_train)\n",
    "print(y_test)\n",
    "print(sum(y_train==0), sum(y_train==1))\n",
    "print(sum(y_test==0), sum(y_test==1))"
   ]
  },
  {
   "cell_type": "code",
   "execution_count": 4,
   "id": "80a606b3-fa65-4ed5-8d40-63c139e9fe76",
   "metadata": {},
   "outputs": [],
   "source": [
    "class medHSI_Dataset(Dataset):\n",
    "    def __init__(self, images, targets, transform, n_components=10):\n",
    "        self.images = images\n",
    "        self.targets = targets\n",
    "        self.transform = transform\n",
    "        self.n_components = n_components\n",
    "        \n",
    "    def __len__(self):\n",
    "        return len(self.targets)\n",
    "    \n",
    "    def __getitem__(self, index):\n",
    "        original_image = self.images[index]\n",
    "        image = self.transform(original_image)\n",
    "        image = self.decompose(image, n_components=self.n_components)\n",
    "        image = image.view(1, image.size(0),image.size(1),image.size(2))\n",
    "        \n",
    "        target = self.targets[index]\n",
    "        \n",
    "        dataset = {'image': image, 'target': target, 'original_image': original_image}\n",
    "        \n",
    "        return dataset\n",
    "        \n",
    "    def show_montage_dataset(self, channel=401, name='train'):\n",
    "        from tools import util\n",
    "        util.show_montage(self.images, channel=channel, savename=name+'_montage.jpg')\n",
    "    \n",
    "    def decompose(self, hsi, n_components=10):\n",
    "        numDecom = hsi.shape[0] - n_components\n",
    "        decom_hsi = hsi[numDecom//2:numDecom//2+n_components, :, :]\n",
    "        \n",
    "        return decom_hsi"
   ]
  },
  {
   "cell_type": "code",
   "execution_count": 5,
   "id": "e2c2d5b5-364a-4cdf-943b-e3f60b0a31c1",
   "metadata": {},
   "outputs": [],
   "source": [
    "target_class = list(Class.values())\n",
    "\n",
    "originalTransform = transforms.Compose(\n",
    "    [transforms.ToTensor(),\n",
    "     transforms.Normalize(tuple(util.Average_for_hsiList(x_train)), tuple(util.Std_for_hsiList(x_train)))])\n",
    "\n",
    "train_dataset = medHSI_Dataset(x_train, y_train, transform=originalTransform, n_components=n_components)\n",
    "train_dataset.show_montage_dataset(channel=401, name='train')\n",
    "test_dataset = medHSI_Dataset(x_test, y_test, transform=originalTransform, n_components=n_components)\n",
    "test_dataset.show_montage_dataset(channel=401, name='test')\n",
    "\n",
    "train_dataloader = DataLoader(train_dataset, batch_size=batch_size, shuffle=True)\n",
    "test_dataloader = DataLoader(test_dataset, batch_size=batch_size, shuffle=True)"
   ]
  },
  {
   "cell_type": "code",
   "execution_count": 6,
   "id": "c3fbfe58-31a4-4566-b264-507cc6e29004",
   "metadata": {},
   "outputs": [
    {
     "name": "stdout",
     "output_type": "stream",
     "text": [
      "cuda\n"
     ]
    }
   ],
   "source": [
    "device = torch.device(\"cuda\" if torch.cuda.is_available() else \"cpu\")\n",
    "# device = 'cpu'\n",
    "print(device)"
   ]
  },
  {
   "cell_type": "code",
   "execution_count": 7,
   "id": "8f506d6b-00aa-454b-8067-3f210563a54f",
   "metadata": {},
   "outputs": [
    {
     "name": "stdout",
     "output_type": "stream",
     "text": [
      "epoch 59, train loss: 0.5811 , train_acc: 0.7314, val_loss: 0.7471 val_acc: 0.5789\n",
      "epoch 119, train loss: 0.1357 , train_acc: 0.9547, val_loss: 2.5022 val_acc: 0.4737\n",
      "epoch 179, train loss: 0.0001 , train_acc: 1.0000, val_loss: 10.4277 val_acc: 0.4737\n",
      "epoch 239, train loss: 0.0000 , train_acc: 1.0000, val_loss: 11.1563 val_acc: 0.4737\n",
      "epoch 299, train loss: 0.0000 , train_acc: 1.0000, val_loss: 11.9686 val_acc: 0.4737\n",
      "epoch 59, train loss: 0.5795 , train_acc: 0.7314, val_loss: 0.7485 val_acc: 0.5789\n",
      "epoch 119, train loss: 0.3351 , train_acc: 0.8900, val_loss: 0.8416 val_acc: 0.5263\n",
      "epoch 179, train loss: 0.0472 , train_acc: 0.9871, val_loss: 3.6635 val_acc: 0.5263\n",
      "epoch 239, train loss: 0.0001 , train_acc: 1.0000, val_loss: 7.8803 val_acc: 0.6316\n",
      "epoch 299, train loss: 0.0000 , train_acc: 1.0000, val_loss: 9.5439 val_acc: 0.6316\n",
      "epoch 59, train loss: 0.5896 , train_acc: 0.7314, val_loss: 0.7267 val_acc: 0.5789\n",
      "epoch 119, train loss: 0.1632 , train_acc: 0.9450, val_loss: 1.5756 val_acc: 0.4737\n",
      "epoch 179, train loss: 0.0001 , train_acc: 1.0000, val_loss: 5.8027 val_acc: 0.4737\n",
      "epoch 239, train loss: 0.0000 , train_acc: 1.0000, val_loss: 6.6977 val_acc: 0.4737\n",
      "epoch 299, train loss: 0.0000 , train_acc: 1.0000, val_loss: 7.4321 val_acc: 0.4737\n",
      "epoch 59, train loss: 0.0004 , train_acc: 1.0000, val_loss: 6.6116 val_acc: 0.3684\n",
      "epoch 119, train loss: 0.0001 , train_acc: 1.0000, val_loss: 8.1393 val_acc: 0.4211\n",
      "epoch 179, train loss: 0.0000 , train_acc: 1.0000, val_loss: 9.0754 val_acc: 0.4211\n",
      "epoch 239, train loss: 0.0000 , train_acc: 1.0000, val_loss: 9.4202 val_acc: 0.4211\n",
      "epoch 299, train loss: 0.0000 , train_acc: 1.0000, val_loss: 9.7685 val_acc: 0.4211\n",
      "epoch 59, train loss: 0.4374 , train_acc: 0.8026, val_loss: 0.5596 val_acc: 0.6842\n",
      "epoch 119, train loss: 0.0002 , train_acc: 1.0000, val_loss: 4.1401 val_acc: 0.4737\n",
      "epoch 179, train loss: 0.0000 , train_acc: 1.0000, val_loss: 4.8978 val_acc: 0.4737\n",
      "epoch 239, train loss: 0.0000 , train_acc: 1.0000, val_loss: 5.0291 val_acc: 0.4737\n",
      "epoch 299, train loss: 0.0000 , train_acc: 1.0000, val_loss: 5.4101 val_acc: 0.4737\n"
     ]
    }
   ],
   "source": [
    "n = 5\n",
    "\n",
    "r = []\n",
    "\n",
    "for i in range(n):\n",
    "    model = Choice_Model(model_name, train_dataset[0]['image'], target_class).to(torch.float).to(device)\n",
    "    if device == 'cuda':\n",
    "        model = torch.nn.DataParallel(model) # make parallel\n",
    "        torch.backends.cudnn.benchmark = True\n",
    "    \n",
    "    criterion = nn.CrossEntropyLoss()\n",
    "    optimizer = torch.optim.SGD(params=model.parameters(), lr=learningRate, momentum=0.9)\n",
    "    \n",
    "    model, result = Learn_Model(train_dataloader, test_dataloader, model, num_of_epoch, criterion, optimizer, device)\n",
    "    \n",
    "    r.append([result['train']['loss'][-1], result['train']['acc'][-1], result['test']['loss'][-1], result['test']['acc'][-1]])"
   ]
  },
  {
   "cell_type": "code",
   "execution_count": 8,
   "id": "938ac5d4-d234-4929-90b0-28f9f5811c79",
   "metadata": {},
   "outputs": [
    {
     "name": "stdout",
     "output_type": "stream",
     "text": [
      "[1.1612861990729383e-05, 1.0, 11.968613624572754, 0.47368421052631576]\n",
      "[1.9465917486190148e-05, 1.0, 9.543890571594238, 0.631578947368421]\n",
      "[2.118653251840896e-05, 1.0, 7.4320932745933534, 0.47368421052631576]\n",
      "[1.2337587678487512e-05, 1.0, 9.768510723114014, 0.42105263157894735]\n",
      "[1.65245897413604e-05, 1.0, 5.410123872756958, 0.47368421052631576]\n"
     ]
    }
   ],
   "source": [
    "for i in range(n):\n",
    "    print(r[i])"
   ]
  },
  {
   "cell_type": "code",
   "execution_count": 9,
   "id": "74def27e-01ba-4d71-8a22-7df7b497ee69",
   "metadata": {},
   "outputs": [],
   "source": [
    "# train_loss, train_acc, train_Correct_Data, train_False_Data = valid(model, train_dataloader, criterion, device, is_test=True)"
   ]
  },
  {
   "cell_type": "code",
   "execution_count": 10,
   "id": "c417e0ac-9caa-462d-bdd5-6b6a15490389",
   "metadata": {},
   "outputs": [
    {
     "data": {
      "text/plain": [
       "'\\nprint(len(train_Correct_Data))\\nif len(train_Correct_Data) != 0:\\n    print(train_Correct_Data[0].shape)\\n    \\nprint(len(train_False_Data))\\nif len(train_False_Data) != 0:\\n    print(train_False_Data[0].shape)\\n'"
      ]
     },
     "execution_count": 10,
     "metadata": {},
     "output_type": "execute_result"
    }
   ],
   "source": [
    "'''\n",
    "print(len(train_Correct_Data))\n",
    "if len(train_Correct_Data) != 0:\n",
    "    print(train_Correct_Data[0].shape)\n",
    "    \n",
    "print(len(train_False_Data))\n",
    "if len(train_False_Data) != 0:\n",
    "    print(train_False_Data[0].shape)\n",
    "'''"
   ]
  },
  {
   "cell_type": "code",
   "execution_count": 11,
   "id": "a676f2a6-1afc-4b48-bd69-21432bec4143",
   "metadata": {},
   "outputs": [
    {
     "data": {
      "text/plain": [
       "\"\\nif len(train_Correct_Data) != 0:\\n    util.show_montage(train_Correct_Data, channel=401, savename='train_Correct_Data_montage.jpg')\\n\\nif len(train_False_Data) != 0:\\n    util.show_montage(train_False_Data, channel=401, savename='train_False_Data_montage.jpg')\\n\""
      ]
     },
     "execution_count": 11,
     "metadata": {},
     "output_type": "execute_result"
    }
   ],
   "source": [
    "'''\n",
    "if len(train_Correct_Data) != 0:\n",
    "    util.show_montage(train_Correct_Data, channel=401, savename='train_Correct_Data_montage.jpg')\n",
    "\n",
    "if len(train_False_Data) != 0:\n",
    "    util.show_montage(train_False_Data, channel=401, savename='train_False_Data_montage.jpg')\n",
    "'''"
   ]
  },
  {
   "cell_type": "code",
   "execution_count": 12,
   "id": "0ff2f99f-74b0-4cc9-a242-22b3ebe99799",
   "metadata": {},
   "outputs": [
    {
     "name": "stdout",
     "output_type": "stream",
     "text": [
      "correct: tensor([ True, False,  True, False], device='cuda:0'), target: tensor([0, 1, 0, 1], device='cuda:0'), pred: tensor([0, 0, 0, 0], device='cuda:0')\n",
      "outputs: tensor([[ 0.6765, -0.5570],\n",
      "        [ 6.7922, -6.5696],\n",
      "        [ 5.6427, -5.3705],\n",
      "        [ 6.3813, -5.8356]], device='cuda:0')\n",
      "loss: 6.458613395690918, running_loss: 6.458613395690918\n",
      "total correct: 2, total: 4\n",
      "correct: tensor([False,  True, False,  True], device='cuda:0'), target: tensor([1, 0, 0, 0], device='cuda:0'), pred: tensor([0, 0, 1, 0], device='cuda:0')\n",
      "outputs: tensor([[ 7.8652, -7.3604],\n",
      "        [ 1.9748, -1.8417],\n",
      "        [-5.5405,  5.2587],\n",
      "        [ 2.0823, -1.8511]], device='cuda:0')\n",
      "loss: 6.516514301300049, running_loss: 12.975127696990967\n",
      "total correct: 4, total: 8\n",
      "correct: tensor([False, False, False, False], device='cuda:0'), target: tensor([0, 0, 1, 1], device='cuda:0'), pred: tensor([1, 1, 0, 0], device='cuda:0')\n",
      "outputs: tensor([[-2.2924,  2.1935],\n",
      "        [-2.5636,  2.5403],\n",
      "        [ 9.0662, -8.6426],\n",
      "        [ 2.8112, -2.4446]], device='cuda:0')\n",
      "loss: 8.144234657287598, running_loss: 21.119362354278564\n",
      "total correct: 4, total: 12\n",
      "correct: tensor([ True, False,  True, False], device='cuda:0'), target: tensor([0, 0, 0, 1], device='cuda:0'), pred: tensor([0, 1, 0, 0], device='cuda:0')\n",
      "outputs: tensor([[ 8.6696, -8.1376],\n",
      "        [-1.7297,  1.7560],\n",
      "        [ 8.1907, -7.7268],\n",
      "        [ 8.4945, -8.1125]], device='cuda:0')\n",
      "loss: 5.030731201171875, running_loss: 26.15009355545044\n",
      "total correct: 6, total: 16\n",
      "correct: tensor([True, True, True], device='cuda:0'), target: tensor([1, 1, 0], device='cuda:0'), pred: tensor([1, 1, 0], device='cuda:0')\n",
      "outputs: tensor([[-3.0520,  3.0421],\n",
      "        [-4.6138,  4.5160],\n",
      "        [ 7.9123, -7.4410]], device='cuda:0')\n",
      "loss: 0.0007874025031924248, running_loss: 26.150880957953632\n",
      "total correct: 9, total: 19\n"
     ]
    }
   ],
   "source": [
    "val_loss, val_acc, Correct_Data, False_Data = valid(model, test_dataloader, criterion, device, is_test=True)"
   ]
  },
  {
   "cell_type": "code",
   "execution_count": 13,
   "id": "e0ef5661-8003-451f-a414-7cd3566799ae",
   "metadata": {},
   "outputs": [
    {
     "name": "stdout",
     "output_type": "stream",
     "text": [
      "9\n",
      "(64, 64, 401)\n",
      "10\n",
      "(64, 64, 401)\n"
     ]
    }
   ],
   "source": [
    "print(len(Correct_Data))\n",
    "if len(Correct_Data) != 0:\n",
    "    print(Correct_Data[0].shape)\n",
    "    \n",
    "print(len(False_Data))\n",
    "if len(False_Data) != 0:\n",
    "    print(False_Data[0].shape)"
   ]
  },
  {
   "cell_type": "code",
   "execution_count": 14,
   "id": "98fb1d73-adcc-4ec1-9d15-fb105a08188d",
   "metadata": {},
   "outputs": [],
   "source": [
    "if len(Correct_Data) != 0:\n",
    "    util.show_montage(Correct_Data, channel=401, savename='Correct_Data_montage.jpg')\n",
    "\n",
    "if len(False_Data) != 0:\n",
    "    util.show_montage(False_Data, channel=401, savename='False_Data_montage.jpg')"
   ]
  },
  {
   "cell_type": "code",
   "execution_count": 15,
   "id": "6a8dbc4c-5114-4535-bfc5-21174eac25f8",
   "metadata": {},
   "outputs": [
    {
     "data": {
      "image/png": "[encoded data removed]",
      "text/plain": [
       "<Figure size 640x480 with 2 Axes>"
      ]
     },
     "metadata": {},
     "output_type": "display_data"
    }
   ],
   "source": [
    "x = np.arange(num_of_epoch)\n",
    "\n",
    "loss_max = max(max(result['train']['loss'], result['test']['loss'], key=max))\n",
    "\n",
    "plt.subplot(1, 2, 1, title='Loss')\n",
    "plt.plot(x, result['train']['loss'], color='red', label='train')\n",
    "plt.plot(x, result['test']['loss'], color='blue', label='test')\n",
    "plt.ylim(0, loss_max+0.3)\n",
    "plt.legend()\n",
    "\n",
    "plt.subplot(1, 2, 2, title='Acc')\n",
    "plt.plot(x, result['train']['acc'], color='red', label='train')\n",
    "plt.plot(x, result['test']['acc'], color='blue', label='test')\n",
    "plt.ylim(0, 1)\n",
    "\n",
    "plt.legend()\n",
    "\n",
    "filename = os.path.join(conf['Directories']['outputDir'], 'T20211207-python', '学習曲線.png')\n",
    "plt.savefig(filename)\n",
    "\n",
    "plt.show()"
   ]
  },
  {
   "cell_type": "code",
   "execution_count": 16,
   "id": "84df4c8d-e122-4305-915c-e2d8a7f8d8f9",
   "metadata": {},
   "outputs": [
    {
     "data": {
      "text/plain": [
       "==========================================================================================\n",
       "Layer (type:depth-idx)                   Output Shape              Param #\n",
       "==========================================================================================\n",
       "my_3DCNN                                 [4, 2]                    --\n",
       "├─Sequential: 1-1                        [4, 64, 6, 64, 64]        --\n",
       "│    └─Conv3d: 2-1                       [4, 2, 384, 64, 64]       16\n",
       "│    └─MaxPool3d: 2-2                    [4, 2, 192, 64, 64]       --\n",
       "│    └─ReLU: 2-3                         [4, 2, 192, 64, 64]       --\n",
       "│    └─Conv3d: 2-4                       [4, 4, 192, 64, 64]       60\n",
       "│    └─MaxPool3d: 2-5                    [4, 4, 96, 64, 64]        --\n",
       "│    └─ReLU: 2-6                         [4, 4, 96, 64, 64]        --\n",
       "│    └─Conv3d: 2-7                       [4, 8, 96, 64, 64]        168\n",
       "│    └─MaxPool3d: 2-8                    [4, 8, 48, 64, 64]        --\n",
       "│    └─ReLU: 2-9                         [4, 8, 48, 64, 64]        --\n",
       "│    └─Conv3d: 2-10                      [4, 16, 48, 64, 64]       656\n",
       "│    └─MaxPool3d: 2-11                   [4, 16, 24, 64, 64]       --\n",
       "│    └─ReLU: 2-12                        [4, 16, 24, 64, 64]       --\n",
       "│    └─Conv3d: 2-13                      [4, 32, 24, 64, 64]       1,568\n",
       "│    └─MaxPool3d: 2-14                   [4, 32, 12, 64, 64]       --\n",
       "│    └─ReLU: 2-15                        [4, 32, 12, 64, 64]       --\n",
       "│    └─Conv3d: 2-16                      [4, 64, 12, 64, 64]       6,208\n",
       "│    └─MaxPool3d: 2-17                   [4, 64, 6, 64, 64]        --\n",
       "│    └─ReLU: 2-18                        [4, 64, 6, 64, 64]        --\n",
       "├─Sequential: 1-2                        [4, 128, 6, 32, 32]       --\n",
       "│    └─Conv3d: 2-19                      [4, 128, 6, 64, 64]       663,680\n",
       "│    └─MaxPool3d: 2-20                   [4, 128, 6, 32, 32]       --\n",
       "│    └─ReLU: 2-21                        [4, 128, 6, 32, 32]       --\n",
       "├─AdaptiveAvgPool3d: 1-3                 [4, 128, 3, 16, 16]       --\n",
       "├─Linear: 1-4                            [4, 768]                  75,498,240\n",
       "├─Linear: 1-5                            [4, 768]                  590,592\n",
       "├─Linear: 1-6                            [4, 2]                    1,538\n",
       "==========================================================================================\n",
       "Total params: 76,762,726\n",
       "Trainable params: 76,762,726\n",
       "Non-trainable params: 0\n",
       "Total mult-adds (G): 68.45\n",
       "==========================================================================================\n",
       "Input size (MB): 25.17\n",
       "Forward/backward pass size (MB): 704.69\n",
       "Params size (MB): 307.05\n",
       "Estimated Total Size (MB): 1036.91\n",
       "=========================================================================================="
      ]
     },
     "execution_count": 16,
     "metadata": {},
     "output_type": "execute_result"
    }
   ],
   "source": [
    "from torchinfo import summary\n",
    "\n",
    "summary(model=model, input_size=(batch_size, 1, n_components, DEFAULT_HEIGHT, DEFAULT_HEIGHT))"
   ]
  },
  {
   "cell_type": "code",
   "execution_count": null,
   "id": "c396fe1f-617b-451c-b19d-150121eb1fde",
   "metadata": {},
   "outputs": [],
   "source": []
  }
 ],
 "metadata": {
  "kernelspec": {
   "display_name": "Python 3 (ipykernel)",
   "language": "python",
   "name": "python3"
  },
  "language_info": {
   "codemirror_mode": {
    "name": "ipython",
    "version": 3
   },
   "file_extension": ".py",
   "mimetype": "text/x-python",
   "name": "python",
   "nbconvert_exporter": "python",
   "pygments_lexer": "ipython3",
   "version": "3.8.8"
  }
 },
 "nbformat": 4,
 "nbformat_minor": 5
}
